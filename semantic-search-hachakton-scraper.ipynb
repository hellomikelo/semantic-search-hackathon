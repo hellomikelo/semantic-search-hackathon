{
 "cells": [
  {
   "cell_type": "markdown",
   "id": "cf9a334b-b09e-4755-b8f9-9770d1a951c3",
   "metadata": {},
   "source": [
    "## McKinsey podcast transcript scraper"
   ]
  },
  {
   "cell_type": "code",
   "execution_count": 18,
   "id": "d1c3afe1-09be-4a2c-ba94-2d3e93a36d0e",
   "metadata": {},
   "outputs": [],
   "source": [
    "from bs4 import BeautifulSoup\n",
    "import requests\n",
    "from tqdm import tqdm"
   ]
  },
  {
   "cell_type": "code",
   "execution_count": 20,
   "id": "73591b76-ab41-4848-b649-7ce021680c87",
   "metadata": {},
   "outputs": [],
   "source": [
    "def get_page_html(url):\n",
    "    \"\"\"Get page's HTML from URL.\"\"\"\n",
    "    page = requests.get(url)\n",
    "    soup = BeautifulSoup(page.content, \"html.parser\")\n",
    "    return soup\n",
    "\n",
    "\n",
    "def get_all_titles(base_url, home_url):\n",
    "    \"\"\"Get podcast titles & URLs.\"\"\"\n",
    "    \n",
    "    soup = get_page_html(home_url)\n",
    "    titles = soup.find_all('h3', class_='headline -arrow')\n",
    "    # s = soup.find('div', class_='wrapper universal-page')\n",
    "    s = soup.find('h2', string=lambda t: 'recent mckinsey podcast episodes' in t.lower()).parent\n",
    "    ts = s.find_all('a', class_=\"item-title-link\")\n",
    "\n",
    "    episodes = {}\n",
    "    for i, t in enumerate(ts): \n",
    "        # print(t.text)\n",
    "        # print(f\"{BASE_URL}{t['href']}\")\n",
    "        episodes[i] = {'title': t.text.strip().replace('\\n', ''), 'url': f\"{base_url}{t['href']}\"}\n",
    "    \n",
    "    return episodes \n",
    "\n",
    "\n",
    "def get_page_text(episodes):\n",
    "    \"\"\"Get all podcast transcripts.\"\"\"\n",
    "    total = len(episodes)\n",
    "\n",
    "    for i, episode in tqdm(enumerate(episodes)):\n",
    "        # TMP\n",
    "        # if i in [1, 2]:\n",
    "        e = episodes[i]\n",
    "        s2 = get_page_html(e['url'])\n",
    "        # print(f\"Title: {e['title']} ({i}/{total})\")\n",
    "        # print(f\"URL: {e['url']}\")\n",
    "\n",
    "        # Get article intro\n",
    "        intro = s2.find_all('div', class_='deck-content-wrapper')\n",
    "        assert len(intro) == 1, 'More than one intro!'\n",
    "        intro = intro[0].text.strip()\n",
    "\n",
    "        # Get article paragraphs\n",
    "        article = s2.find_all('div', class_='article-body-wrapper')\n",
    "        assert len(article) == 1, 'Check number of tag matches!'\n",
    "\n",
    "        ps = article[0].find_all('p')\n",
    "\n",
    "        paragraphs = []\n",
    "        paragraphs.append(intro.strip())\n",
    "        for p in ps:\n",
    "            # print(p.text + '\\n')\n",
    "            paragraphs.append(p.text.strip())\n",
    "\n",
    "        # Put it all together\n",
    "        episodes.update({i: \n",
    "                         {\n",
    "                             'title': e['title'], \n",
    "                             'url': e['url'],\n",
    "                             'intro': intro, \n",
    "                             'paragraphs': paragraphs, \n",
    "                         }\n",
    "                        }\n",
    "                       )\n",
    "\n",
    "    return episodes\n",
    "\n"
   ]
  },
  {
   "cell_type": "code",
   "execution_count": 21,
   "id": "663924a8-fb89-49de-a92b-52d68da730ad",
   "metadata": {},
   "outputs": [
    {
     "name": "stderr",
     "output_type": "stream",
     "text": [
      "85it [01:23,  1.01it/s]\n"
     ]
    }
   ],
   "source": [
    "# Scrapes Mckinsey podcasts\n",
    "base_url = 'https://www.mckinsey.com'\n",
    "home_url = \"https://www.mckinsey.com/featured-insights/mckinsey-podcast\"\n",
    "episodes = get_all_titles(base_url, home_url)\n",
    "episodes = get_page_text(episodes)"
   ]
  },
  {
   "cell_type": "code",
   "execution_count": 42,
   "id": "7f24fe72-bc55-4e89-9a1c-edb1e13a00c9",
   "metadata": {},
   "outputs": [],
   "source": [
    "# Save transcripts to CSV\n",
    "import pandas as pd\n",
    "\n",
    "df = pd.DataFrame(episodes).T\n",
    "# Clean up escape sequences\n",
    "df['paragraphs'] = df.paragraphs.apply(lambda p: [re.sub(r'(\\n|\\xa0)', ' ', x) for x in p])\n",
    "df.to_csv('./mckinsey_podcasts.csv')"
   ]
  },
  {
   "cell_type": "raw",
   "id": "e0e25659-b0d5-4832-acc6-5ae8f77b6a6d",
   "metadata": {},
   "source": [
    "# TODO: scrape Inside the Strategy Room podcast\n",
    "base_url = 'https://www.mckinsey.com/capabilities/strategy-and-corporate-finance/our-insights/'\n",
    "home_url = 'https://www.mckinsey.com/capabilities/strategy-and-corporate-finance/our-insights/inside-the-strategy-room-podcast'\n",
    "\n",
    "e2 = get_all_titles(base_url, home_url)"
   ]
  },
  {
   "cell_type": "markdown",
   "id": "350712cd-aea3-47a1-84aa-ec6f3819d802",
   "metadata": {},
   "source": [
    "## Embed and compute consine sim\n"
   ]
  },
  {
   "cell_type": "code",
   "execution_count": 3,
   "id": "065ce2cb-27ff-466c-b5e3-76f7046a45d0",
   "metadata": {},
   "outputs": [
    {
     "data": {
      "text/plain": [
       "True"
      ]
     },
     "execution_count": 3,
     "metadata": {},
     "output_type": "execute_result"
    }
   ],
   "source": [
    "import cohere\n",
    "import numpy as np\n",
    "import re\n",
    "import pandas as pd\n",
    "from sklearn.metrics.pairwise import cosine_similarity\n",
    "# from annoy import AnnoyIndex\n",
    "from dotenv import load_dotenv\n",
    "import os\n",
    "load_dotenv()"
   ]
  },
  {
   "cell_type": "code",
   "execution_count": 4,
   "id": "a2cf4e67-046a-48e1-abea-f59994b85bff",
   "metadata": {},
   "outputs": [],
   "source": [
    "# Paste your API key here. Remember to not share publicly\n",
    "api_key = os.getenv('COHERE_API_KEY')\n",
    "\n",
    "# Create and retrieve a Cohere API key from os.cohere.ai\n",
    "co = cohere.Client(api_key)"
   ]
  },
  {
   "cell_type": "code",
   "execution_count": 138,
   "id": "0be57568-c303-414b-8db9-534c9d8bd5b4",
   "metadata": {},
   "outputs": [],
   "source": [
    "df = pd.read_csv('./mckinsey_podcasts.csv', index_col=0, converters={'paragraphs': lambda x: x[2:-2].split(\"', '\")})\n",
    "df['embeds'] = None  # initialize embeddings"
   ]
  },
  {
   "cell_type": "code",
   "execution_count": 140,
   "id": "abb8cd02-abae-4997-aaeb-7dd08e528f37",
   "metadata": {},
   "outputs": [
    {
     "name": "stderr",
     "output_type": "stream",
     "text": [
      "85it [00:17,  4.89it/s]\n"
     ]
    }
   ],
   "source": [
    "# Get the embeddings for each sentence/paragraph of each episode\n",
    "\n",
    "# TMP\n",
    "# for i, row in df.iloc[:2].iterrows():\n",
    "for i, row in tqdm(df.iterrows()):\n",
    "    # Embed intros\n",
    "    embeds = co.embed(texts=[row.intro],\n",
    "                  model=\"large\",\n",
    "                  truncate=\"LEFT\").embeddings\n",
    "    # Embed paragraphs\n",
    "    # embeds = co.embed(texts=row.paragraphs,\n",
    "    #                   model=\"large\",\n",
    "    #                   truncate=\"LEFT\").embeddings\n",
    "    df.at[i, 'embeds'] = np.array(embeds)\n",
    "    "
   ]
  },
  {
   "cell_type": "code",
   "execution_count": 202,
   "id": "62d31c9c-f4dd-4e68-b486-446bffc7593e",
   "metadata": {},
   "outputs": [],
   "source": [
    "import time\n",
    "df.to_csv('./mckinsey_podcasts_embeds.csv')\n",
    "\n",
    "# time.sleep(3)\n",
    "# print('y')\n",
    "\n",
    "# df.paragraphs.apply(lambda x: len(x))\n",
    "# df.intro\n",
    "# df.head()"
   ]
  },
  {
   "cell_type": "code",
   "execution_count": 168,
   "id": "9165b6fd-1bf2-4143-a0a8-ca38e0babee6",
   "metadata": {},
   "outputs": [],
   "source": [
    "# Check the dimensions of the embeddings\n",
    "embeds = df.embeds.to_list()\n",
    "texts = df.intro.to_numpy()\n",
    "# df.embeds.shape\n",
    "# embeds = df.loc[0, 'embeds']\n",
    "# texts = np.array(df.loc[0, 'paragraphs'])"
   ]
  },
  {
   "cell_type": "code",
   "execution_count": 169,
   "id": "718eaa16-fd2a-4023-b258-cafeb2e6d477",
   "metadata": {},
   "outputs": [
    {
     "data": {
      "text/plain": [
       "True"
      ]
     },
     "execution_count": 169,
     "metadata": {},
     "output_type": "execute_result"
    }
   ],
   "source": [
    "from annoy import AnnoyIndex\n",
    "\n",
    "embed_dim = embeds[0].shape[1]\n",
    "\n",
    "# Index the embeddings\n",
    "search_index = AnnoyIndex(embed_dim, 'angular')\n",
    "for i in range(len(embeds)):\n",
    "    search_index.add_item(i, embeds[i][0])\n",
    "\n",
    "search_index.build(10) # 10 trees\n",
    "search_index.save('./podcasts.ann')"
   ]
  },
  {
   "cell_type": "code",
   "execution_count": 170,
   "id": "0ca68189-6618-4217-802a-f41ab56f5ccd",
   "metadata": {},
   "outputs": [
    {
     "data": {
      "text/plain": [
       "True"
      ]
     },
     "execution_count": 170,
     "metadata": {},
     "output_type": "execute_result"
    }
   ],
   "source": [
    "# Load index\n",
    "search_index = AnnoyIndex(embed_dim, 'angular')\n",
    "search_index.load('./podcasts.ann') # super fast, will just mmap the file"
   ]
  },
  {
   "cell_type": "code",
   "execution_count": 171,
   "id": "575fb304-6284-4442-b1b1-5b1775880aa4",
   "metadata": {},
   "outputs": [],
   "source": [
    "# Choose an example (we'll retrieve others similar to it)\n",
    "example_id = 52\n",
    "\n",
    "# Retrieve nearest neighbors\n",
    "similar_item_ids = search_index.get_nns_by_item(example_id, 10,\n",
    "                                                include_distances=True)"
   ]
  },
  {
   "cell_type": "code",
   "execution_count": 172,
   "id": "0986c159-8327-4d4a-92ca-ea82b09c7e6e",
   "metadata": {},
   "outputs": [
    {
     "name": "stdout",
     "output_type": "stream",
     "text": [
      "Question:'Airlines and passengers alike are flying into a world of flygskam and flying taxis.'\n",
      "Nearest neighbors:\n"
     ]
    },
    {
     "data": {
      "text/html": [
       "<div>\n",
       "<style scoped>\n",
       "    .dataframe tbody tr th:only-of-type {\n",
       "        vertical-align: middle;\n",
       "    }\n",
       "\n",
       "    .dataframe tbody tr th {\n",
       "        vertical-align: top;\n",
       "    }\n",
       "\n",
       "    .dataframe thead th {\n",
       "        text-align: right;\n",
       "    }\n",
       "</style>\n",
       "<table border=\"1\" class=\"dataframe\">\n",
       "  <thead>\n",
       "    <tr style=\"text-align: right;\">\n",
       "      <th></th>\n",
       "      <th>texts</th>\n",
       "      <th>distance</th>\n",
       "    </tr>\n",
       "  </thead>\n",
       "  <tbody>\n",
       "    <tr>\n",
       "      <th>1</th>\n",
       "      <td>The COVID-19 pandemic decimated airlines in 20...</td>\n",
       "      <td>1.100947</td>\n",
       "    </tr>\n",
       "    <tr>\n",
       "      <th>2</th>\n",
       "      <td>Scooter skeptic? Think again. Micromobility is...</td>\n",
       "      <td>1.109316</td>\n",
       "    </tr>\n",
       "    <tr>\n",
       "      <th>3</th>\n",
       "      <td>Innovation is accelerating in Europe and beyon...</td>\n",
       "      <td>1.139736</td>\n",
       "    </tr>\n",
       "    <tr>\n",
       "      <th>4</th>\n",
       "      <td>With more than half the world’s population liv...</td>\n",
       "      <td>1.142045</td>\n",
       "    </tr>\n",
       "    <tr>\n",
       "      <th>5</th>\n",
       "      <td>The competitive landscape is shifting across t...</td>\n",
       "      <td>1.142707</td>\n",
       "    </tr>\n",
       "    <tr>\n",
       "      <th>6</th>\n",
       "      <td>A transformative year in the technology, trend...</td>\n",
       "      <td>1.149731</td>\n",
       "    </tr>\n",
       "    <tr>\n",
       "      <th>7</th>\n",
       "      <td>Here’s how technology, data, and human insight...</td>\n",
       "      <td>1.162902</td>\n",
       "    </tr>\n",
       "    <tr>\n",
       "      <th>8</th>\n",
       "      <td>Globalization isn’t in retreat, but it has mor...</td>\n",
       "      <td>1.163296</td>\n",
       "    </tr>\n",
       "    <tr>\n",
       "      <th>9</th>\n",
       "      <td>Next-generation mobile networks promise lower ...</td>\n",
       "      <td>1.172421</td>\n",
       "    </tr>\n",
       "  </tbody>\n",
       "</table>\n",
       "</div>"
      ],
      "text/plain": [
       "                                               texts  distance\n",
       "1  The COVID-19 pandemic decimated airlines in 20...  1.100947\n",
       "2  Scooter skeptic? Think again. Micromobility is...  1.109316\n",
       "3  Innovation is accelerating in Europe and beyon...  1.139736\n",
       "4  With more than half the world’s population liv...  1.142045\n",
       "5  The competitive landscape is shifting across t...  1.142707\n",
       "6  A transformative year in the technology, trend...  1.149731\n",
       "7  Here’s how technology, data, and human insight...  1.162902\n",
       "8  Globalization isn’t in retreat, but it has mor...  1.163296\n",
       "9  Next-generation mobile networks promise lower ...  1.172421"
      ]
     },
     "execution_count": 172,
     "metadata": {},
     "output_type": "execute_result"
    }
   ],
   "source": [
    "# Format and print the text and distances\n",
    "# Drop idx 0 since it's same as example_id\n",
    "results = pd.DataFrame(data={'texts': texts[similar_item_ids[0]], \n",
    "                             'distance': similar_item_ids[1]}).drop(0)\n",
    "\n",
    "print(f\"Question:'{texts[example_id]}'\\nNearest neighbors:\")\n",
    "results\n",
    "# STOP"
   ]
  },
  {
   "cell_type": "markdown",
   "id": "d90c5190-e1b7-4123-876a-724e287ead64",
   "metadata": {},
   "source": [
    "1. compute query embedding (q)\n",
    "2. compare q to every paragraph of every podcast transcript\n",
    "3. "
   ]
  },
  {
   "cell_type": "code",
   "execution_count": 198,
   "id": "e38931e5-e8e0-4a48-b9a2-89aa8cc592c7",
   "metadata": {},
   "outputs": [],
   "source": [
    "query = \"tips on how I can accomplish more in my professional life\"\n",
    "query = \"what are some major problems affecting the world recently?\"\n",
    "\n",
    "# Get the query's embedding\n",
    "query_embed = co.embed(texts=[query],\n",
    "                  model=\"large\",\n",
    "                  truncate=\"LEFT\").embeddings\n",
    "\n",
    "# Retrieve the nearest neighbors\n",
    "similar_item_ids = search_index.get_nns_by_vector(query_embed[0],10,\n",
    "                                                include_distances=True)\n",
    "# Format the results\n",
    "results_new = pd.DataFrame(data = {\n",
    "    'id': similar_item_ids[0],\n",
    "    'texts': texts[similar_item_ids[0]], \n",
    "    'distance': similar_item_ids[1],\n",
    "})"
   ]
  },
  {
   "cell_type": "code",
   "execution_count": 199,
   "id": "bfcc17f7-6da1-46c6-a1d4-c8896dd2e119",
   "metadata": {},
   "outputs": [
    {
     "name": "stdout",
     "output_type": "stream",
     "text": [
      "Query:'what are some major problems affecting the world recently?'\n",
      "Nearest neighbors:\n"
     ]
    },
    {
     "data": {
      "text/html": [
       "<div>\n",
       "<style scoped>\n",
       "    .dataframe tbody tr th:only-of-type {\n",
       "        vertical-align: middle;\n",
       "    }\n",
       "\n",
       "    .dataframe tbody tr th {\n",
       "        vertical-align: top;\n",
       "    }\n",
       "\n",
       "    .dataframe thead th {\n",
       "        text-align: right;\n",
       "    }\n",
       "</style>\n",
       "<table border=\"1\" class=\"dataframe\">\n",
       "  <thead>\n",
       "    <tr style=\"text-align: right;\">\n",
       "      <th></th>\n",
       "      <th>id</th>\n",
       "      <th>texts</th>\n",
       "      <th>distance</th>\n",
       "    </tr>\n",
       "  </thead>\n",
       "  <tbody>\n",
       "    <tr>\n",
       "      <th>0</th>\n",
       "      <td>13</td>\n",
       "      <td>Lives lost and upended. Soaring food and energ...</td>\n",
       "      <td>1.034461</td>\n",
       "    </tr>\n",
       "    <tr>\n",
       "      <th>1</th>\n",
       "      <td>12</td>\n",
       "      <td>The war in Ukraine poses a looming threat to t...</td>\n",
       "      <td>1.080329</td>\n",
       "    </tr>\n",
       "    <tr>\n",
       "      <th>2</th>\n",
       "      <td>8</td>\n",
       "      <td>Fashion suppliers and brands, like other compa...</td>\n",
       "      <td>1.119978</td>\n",
       "    </tr>\n",
       "    <tr>\n",
       "      <th>3</th>\n",
       "      <td>66</td>\n",
       "      <td>With more than half the world’s population liv...</td>\n",
       "      <td>1.129816</td>\n",
       "    </tr>\n",
       "    <tr>\n",
       "      <th>4</th>\n",
       "      <td>74</td>\n",
       "      <td>Governments and companies have much work to do...</td>\n",
       "      <td>1.144383</td>\n",
       "    </tr>\n",
       "    <tr>\n",
       "      <th>5</th>\n",
       "      <td>81</td>\n",
       "      <td>Great strides have been made since 2008 to pre...</td>\n",
       "      <td>1.146366</td>\n",
       "    </tr>\n",
       "    <tr>\n",
       "      <th>6</th>\n",
       "      <td>57</td>\n",
       "      <td>Around the world, women are paid at lower rate...</td>\n",
       "      <td>1.157874</td>\n",
       "    </tr>\n",
       "    <tr>\n",
       "      <th>7</th>\n",
       "      <td>39</td>\n",
       "      <td>The pandemic is exacerbating the US behavioral...</td>\n",
       "      <td>1.172694</td>\n",
       "    </tr>\n",
       "    <tr>\n",
       "      <th>8</th>\n",
       "      <td>41</td>\n",
       "      <td>The COVID-19 pandemic has upended norms about ...</td>\n",
       "      <td>1.191313</td>\n",
       "    </tr>\n",
       "    <tr>\n",
       "      <th>9</th>\n",
       "      <td>58</td>\n",
       "      <td>Across the developed world, health systems mus...</td>\n",
       "      <td>1.195445</td>\n",
       "    </tr>\n",
       "  </tbody>\n",
       "</table>\n",
       "</div>"
      ],
      "text/plain": [
       "   id                                              texts  distance\n",
       "0  13  Lives lost and upended. Soaring food and energ...  1.034461\n",
       "1  12  The war in Ukraine poses a looming threat to t...  1.080329\n",
       "2   8  Fashion suppliers and brands, like other compa...  1.119978\n",
       "3  66  With more than half the world’s population liv...  1.129816\n",
       "4  74  Governments and companies have much work to do...  1.144383\n",
       "5  81  Great strides have been made since 2008 to pre...  1.146366\n",
       "6  57  Around the world, women are paid at lower rate...  1.157874\n",
       "7  39  The pandemic is exacerbating the US behavioral...  1.172694\n",
       "8  41  The COVID-19 pandemic has upended norms about ...  1.191313\n",
       "9  58  Across the developed world, health systems mus...  1.195445"
      ]
     },
     "execution_count": 199,
     "metadata": {},
     "output_type": "execute_result"
    }
   ],
   "source": [
    "print(f\"Query:'{query}'\\nNearest neighbors:\")\n",
    "results_new"
   ]
  },
  {
   "cell_type": "code",
   "execution_count": 197,
   "id": "6a093e83-f7f9-4e16-8dd9-cfbdaa2f4463",
   "metadata": {},
   "outputs": [
    {
     "name": "stdout",
     "output_type": "stream",
     "text": [
      "Query:'tips on how I can accomplish more in my professional life'\n",
      "Nearest neighbors:\n"
     ]
    },
    {
     "data": {
      "text/html": [
       "<div>\n",
       "<style scoped>\n",
       "    .dataframe tbody tr th:only-of-type {\n",
       "        vertical-align: middle;\n",
       "    }\n",
       "\n",
       "    .dataframe tbody tr th {\n",
       "        vertical-align: top;\n",
       "    }\n",
       "\n",
       "    .dataframe thead th {\n",
       "        text-align: right;\n",
       "    }\n",
       "</style>\n",
       "<table border=\"1\" class=\"dataframe\">\n",
       "  <thead>\n",
       "    <tr style=\"text-align: right;\">\n",
       "      <th></th>\n",
       "      <th>id</th>\n",
       "      <th>texts</th>\n",
       "      <th>distance</th>\n",
       "    </tr>\n",
       "  </thead>\n",
       "  <tbody>\n",
       "    <tr>\n",
       "      <th>0</th>\n",
       "      <td>40</td>\n",
       "      <td>How can senior managers get better, faster bus...</td>\n",
       "      <td>1.077713</td>\n",
       "    </tr>\n",
       "    <tr>\n",
       "      <th>1</th>\n",
       "      <td>29</td>\n",
       "      <td>How you get along with your manager can shape ...</td>\n",
       "      <td>1.091231</td>\n",
       "    </tr>\n",
       "    <tr>\n",
       "      <th>2</th>\n",
       "      <td>24</td>\n",
       "      <td>McKinsey’s Joanna Barsh discusses how you can ...</td>\n",
       "      <td>1.097185</td>\n",
       "    </tr>\n",
       "    <tr>\n",
       "      <th>3</th>\n",
       "      <td>19</td>\n",
       "      <td>Women are doing more to support employee well-...</td>\n",
       "      <td>1.152625</td>\n",
       "    </tr>\n",
       "    <tr>\n",
       "      <th>4</th>\n",
       "      <td>70</td>\n",
       "      <td>Research shows that companies can improve shor...</td>\n",
       "      <td>1.154624</td>\n",
       "    </tr>\n",
       "    <tr>\n",
       "      <th>5</th>\n",
       "      <td>3</td>\n",
       "      <td>Despite leaders’ best efforts, worldwide burno...</td>\n",
       "      <td>1.170799</td>\n",
       "    </tr>\n",
       "    <tr>\n",
       "      <th>6</th>\n",
       "      <td>67</td>\n",
       "      <td>Bringing advanced computing power and analytic...</td>\n",
       "      <td>1.174368</td>\n",
       "    </tr>\n",
       "    <tr>\n",
       "      <th>7</th>\n",
       "      <td>7</td>\n",
       "      <td>McKinsey’s report on human capital highlights ...</td>\n",
       "      <td>1.176258</td>\n",
       "    </tr>\n",
       "    <tr>\n",
       "      <th>8</th>\n",
       "      <td>23</td>\n",
       "      <td>To keep top talent in the fold, managers must ...</td>\n",
       "      <td>1.179255</td>\n",
       "    </tr>\n",
       "    <tr>\n",
       "      <th>9</th>\n",
       "      <td>61</td>\n",
       "      <td>Cognitive biases can trip up even the most exp...</td>\n",
       "      <td>1.180501</td>\n",
       "    </tr>\n",
       "  </tbody>\n",
       "</table>\n",
       "</div>"
      ],
      "text/plain": [
       "   id                                              texts  distance\n",
       "0  40  How can senior managers get better, faster bus...  1.077713\n",
       "1  29  How you get along with your manager can shape ...  1.091231\n",
       "2  24  McKinsey’s Joanna Barsh discusses how you can ...  1.097185\n",
       "3  19  Women are doing more to support employee well-...  1.152625\n",
       "4  70  Research shows that companies can improve shor...  1.154624\n",
       "5   3  Despite leaders’ best efforts, worldwide burno...  1.170799\n",
       "6  67  Bringing advanced computing power and analytic...  1.174368\n",
       "7   7  McKinsey’s report on human capital highlights ...  1.176258\n",
       "8  23  To keep top talent in the fold, managers must ...  1.179255\n",
       "9  61  Cognitive biases can trip up even the most exp...  1.180501"
      ]
     },
     "execution_count": 197,
     "metadata": {},
     "output_type": "execute_result"
    }
   ],
   "source": [
    "print(f\"Query:'{query}'\\nNearest neighbors:\")\n",
    "results_new"
   ]
  },
  {
   "cell_type": "code",
   "execution_count": 190,
   "id": "06da307a-4a14-465e-b1a7-2c23dfbc1770",
   "metadata": {},
   "outputs": [
    {
     "data": {
      "text/plain": [
       "array(['How can senior managers get better, faster business decisions from the meetings they attend or lead? Planning is key.',\n",
       "       'How you get along with your manager can shape your health, happiness, and productivity.',\n",
       "       'McKinsey’s Joanna Barsh discusses how you can become an effective and engaged leader.',\n",
       "       'Women are doing more to support employee well-being but face higher stress levels as a result. Here’s how leaders can help.',\n",
       "       'Research shows that companies can improve short- and long-term performance by focusing on a small number of carefully selected management practices.',\n",
       "       'Despite leaders’ best efforts, worldwide burnout persists. New research reveals why—and how to help employees begin to thrive again.',\n",
       "       'Bringing advanced computing power and analytics capabilities to bear on people decisions in an organization is crucial to driving lasting and effective change.',\n",
       "       'McKinsey’s report on human capital highlights the importance of internal mobility in organizations. Here’s how to encourage your employees to try more new things.',\n",
       "       'To keep top talent in the fold, managers must actively change their leadership styles—focusing less on controls and more on culture and connections.',\n",
       "       'Cognitive biases can trip up even the most experienced executives but can be defeated using proven techniques.'],\n",
       "      dtype=object)"
      ]
     },
     "execution_count": 190,
     "metadata": {},
     "output_type": "execute_result"
    }
   ],
   "source": [
    "# tmp\n",
    "results_new.texts.values\n"
   ]
  },
  {
   "cell_type": "markdown",
   "id": "57fc6820-b5da-4bcd-9100-6f000d971adb",
   "metadata": {},
   "source": [
    "# Appendix\n",
    "\n",
    "---\n",
    "\n",
    "## Eth doc scraper\n",
    "\n",
    "Use BeautifulSoup to scrape documentation sites for text content.\n"
   ]
  },
  {
   "cell_type": "code",
   "execution_count": 7,
   "id": "d824f672-c874-4c98-a644-c88591f29650",
   "metadata": {},
   "outputs": [],
   "source": [
    "from bs4 import BeautifulSoup\n",
    "import requests"
   ]
  },
  {
   "cell_type": "code",
   "execution_count": 124,
   "id": "ace760ec-97ca-451c-b343-a090716035d7",
   "metadata": {},
   "outputs": [],
   "source": [
    "URL = \"https://ethereum.org/en/developers/docs/\"\n",
    "# URL = \"https://ethereum.org/en/developers/docs/intro-to-ethereum/#what-is-ethereum\"\n",
    "page = requests.get(URL)\n",
    "soup = BeautifulSoup(page.content, \"html.parser\")"
   ]
  },
  {
   "cell_type": "code",
   "execution_count": null,
   "id": "0109090f-06bf-4588-b94f-d104ba245b68",
   "metadata": {},
   "outputs": [],
   "source": [
    "# Find child URLs\n",
    "base = 'https://ethereum.org'\n",
    "n = soup.find_all('a')\n",
    "for _n in n:\n",
    "    if 'docs' in _n['href']:\n",
    "        print(f\"{base}{_n['href']}\")"
   ]
  },
  {
   "cell_type": "code",
   "execution_count": 125,
   "id": "848d2cd7-358c-4406-b1f8-8aa643e04d43",
   "metadata": {},
   "outputs": [
    {
     "name": "stdout",
     "output_type": "stream",
     "text": [
      "h1: Ethereum development documentation\n",
      "\n",
      "This documentation is designed to help you build with Ethereum. It covers Ethereum as a concept, explains the Ethereum tech stack, and documents advanced topics for more complex applications and use cases.\n",
      "\n",
      "This is an open-source community effort, so feel free to suggest new topics, add new content, and provide examples wherever you think it might be helpful. All documentation can be edited via GitHub – if you're unsure how, follow these instructions.\n",
      "\n",
      "h2: Development modules\n",
      "\n",
      "If this is your first attempt at Ethereum development, we recommend starting at the beginning and working your way through like a book.\n",
      "\n",
      "h3: Foundational topics\n",
      "\n",
      "h3: Ethereum stack\n",
      "\n",
      "h3: Advanced\n",
      "\n",
      "h3: Was this article helpful?\n",
      "\n",
      "Next\n",
      "\n"
     ]
    }
   ],
   "source": [
    "# Get all article text (title, headers, paragraphs)\n",
    "a = soup.find_all(\"article\")\n",
    "for _a in a:\n",
    "    s = _a.find_all([\"h1\", \"h2\", \"h3\", 'p'])\n",
    "    for _s in s:\n",
    "        if _s.name in [\"h1\", \"h2\", \"h3\"]:\n",
    "            print(f\"{_s.name}: {_s.text}\\n\")\n",
    "        else: \n",
    "            print(_s.text + '\\n')"
   ]
  },
  {
   "cell_type": "markdown",
   "id": "903b4168-b8e5-4032-b62e-d55a04c9c751",
   "metadata": {},
   "source": [
    "# Example website scraper "
   ]
  },
  {
   "cell_type": "code",
   "execution_count": 7,
   "id": "b827306d-9b38-4522-9c11-e2088efa559a",
   "metadata": {},
   "outputs": [],
   "source": [
    "from bs4 import BeautifulSoup\n",
    "import requests"
   ]
  },
  {
   "cell_type": "code",
   "execution_count": 8,
   "id": "97f36f2d-bed0-4a0f-be48-5b44782f507c",
   "metadata": {},
   "outputs": [],
   "source": [
    "URL = \"https://realpython.github.io/fake-jobs/\"\n",
    "page = requests.get(URL)\n",
    "\n",
    "# print(page.text)\n",
    "\n",
    "soup = BeautifulSoup(page.content, \"html.parser\")\n"
   ]
  },
  {
   "cell_type": "code",
   "execution_count": null,
   "id": "8dc410f4-2db8-4592-931a-60faba6f7c42",
   "metadata": {},
   "outputs": [],
   "source": [
    "results = soup.find(id=\"ResultsContainer\")\n",
    "job_elements = results.find_all(\"div\", class_=\"card-content\")\n",
    "\n",
    "# print(results.prettify())\n",
    "\n",
    "for job_element in job_elements:\n",
    "    title_element = job_element.find(\"h2\", class_=\"title\")\n",
    "    company_element = job_element.find(\"h3\", class_=\"company\")\n",
    "    location_element = job_element.find(\"p\", class_=\"location\")\n",
    "    print(title_element.text.strip())\n",
    "    print(company_element.text.strip())\n",
    "    print(location_element.text.strip())\n",
    "    print()\n",
    "    \n"
   ]
  },
  {
   "cell_type": "code",
   "execution_count": null,
   "id": "67c9b682-f8d5-4c32-b8dc-816dd1347e5d",
   "metadata": {},
   "outputs": [],
   "source": [
    "python_jobs = results.find_all(\n",
    "    \"h2\", string=lambda text: \"python\" in text.lower()\n",
    ")\n",
    "\n",
    "python_job_elements = [\n",
    "    h2_element.parent.parent.parent for h2_element in python_jobs\n",
    "]"
   ]
  },
  {
   "cell_type": "code",
   "execution_count": null,
   "id": "b285b1db-086d-4477-b16c-fbaa92e25b7e",
   "metadata": {},
   "outputs": [],
   "source": [
    "for job_element in python_job_elements:\n",
    "    # -- snip --\n",
    "    links = job_element.find_all(\"a\")\n",
    "    for link in links:\n",
    "        link_url = link[\"href\"]\n",
    "        print(f\"Apply here: {link_url}\\n\")"
   ]
  }
 ],
 "metadata": {
  "kernelspec": {
   "display_name": "Python [conda env:hackathon] *",
   "language": "python",
   "name": "conda-env-hackathon-py"
  },
  "language_info": {
   "codemirror_mode": {
    "name": "ipython",
    "version": 3
   },
   "file_extension": ".py",
   "mimetype": "text/x-python",
   "name": "python",
   "nbconvert_exporter": "python",
   "pygments_lexer": "ipython3",
   "version": "3.7.13"
  }
 },
 "nbformat": 4,
 "nbformat_minor": 5
}
