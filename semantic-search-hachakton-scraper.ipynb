{
 "cells": [
  {
   "cell_type": "markdown",
   "id": "cf9a334b-b09e-4755-b8f9-9770d1a951c3",
   "metadata": {},
   "source": [
    "## McKinsey podcast transcript scraper"
   ]
  },
  {
   "cell_type": "code",
   "execution_count": 18,
   "id": "d1c3afe1-09be-4a2c-ba94-2d3e93a36d0e",
   "metadata": {},
   "outputs": [],
   "source": [
    "from bs4 import BeautifulSoup\n",
    "import requests\n",
    "from tqdm import tqdm"
   ]
  },
  {
   "cell_type": "code",
   "execution_count": 715,
   "id": "73591b76-ab41-4848-b649-7ce021680c87",
   "metadata": {},
   "outputs": [],
   "source": [
    "def get_page_html(url):\n",
    "    \"\"\"Get page's HTML from URL.\"\"\"\n",
    "    page = requests.get(url)\n",
    "    soup = BeautifulSoup(page.content, \"html.parser\")\n",
    "    return soup\n",
    "\n",
    "\n",
    "def get_all_titles(base_url, home_url):\n",
    "    \"\"\"Get podcast titles & URLs from podcast home page.\"\"\"\n",
    "    \n",
    "    soup = get_page_html(home_url)\n",
    "    # titles = soup.find_all('h3', class_='headline -arrow')\n",
    "    # s = soup.find('div', class_='wrapper universal-page')\n",
    "    s = soup.find('h2', string=lambda t: 'recent mckinsey podcast episodes' in t.lower()).parent\n",
    "    ts = s.find_all('a', class_=\"item-title-link\")\n",
    "\n",
    "    episodes = {}\n",
    "    for i, t in enumerate(ts): \n",
    "        # TMP\n",
    "        # if i in range(20,23):\n",
    "        # print(t.text)\n",
    "        # print(f\"{BASE_URL}{t['href']}\")\n",
    "        episodes[i] = {'title': t.text.strip().replace('\\n', ''), 'url': f\"{base_url}{t['href']}\"}\n",
    "    \n",
    "    return episodes \n",
    "\n",
    "# yyy\n",
    "\n",
    "def get_page_text(episodes):\n",
    "    \"\"\"Get all podcast transcripts.\"\"\"\n",
    "    for i, e in tqdm(episodes.items()):\n",
    "        # TMP\n",
    "        s2 = get_page_html(e['url'])\n",
    "        # print(f\"Title: {e['title']} ({i}/{total})\")\n",
    "        # print(f\"URL: {e['url']}\")\n",
    "\n",
    "        # Get article intro\n",
    "        intro = s2.find_all('div', class_='deck-content-wrapper')\n",
    "        assert len(intro) == 1, 'Number of intro is not 1!'\n",
    "        intro = intro[0].text.strip()\n",
    "\n",
    "        # Get sub intro\n",
    "        sub_intro = ''\n",
    "        r2 = s2.find_all(id='backtracks-player')\n",
    "        if r2: \n",
    "            assert len(r2) == 1, 'Number of sub intro is not 1!'\n",
    "            c = r2[0]\n",
    "            while c != None: \n",
    "                c = c.previous_sibling\n",
    "                if c and c.name == 'p' and c.text != '\\n':\n",
    "                    sub_intro = c.text.strip() + ' ' + sub_intro\n",
    "            replace_str = r'(The following transcript .* edited.*\\.|The McKinsey [pP]odcast is.*)'\n",
    "            sub_intro = re.sub(replace_str, '', sub_intro).strip()\n",
    "        else: \n",
    "            print(f\"Check sub intro in episode {i}.\")\n",
    "\n",
    "        # Combine intros\n",
    "        intro += ' ' + sub_intro\n",
    "\n",
    "        # Get article paragraphs\n",
    "        article = s2.find_all('div', class_='article-body-wrapper')\n",
    "        assert len(article) == 1, 'Check number of tag matches!'\n",
    "\n",
    "        ps = article[0].find_all('p')\n",
    "\n",
    "        paragraphs = []\n",
    "        paragraphs.append(intro.strip())\n",
    "        for p in ps:\n",
    "            # print(p.text + '\\n')\n",
    "            paragraphs.append(p.text.strip())\n",
    "\n",
    "        # Put it all together\n",
    "        episodes.update({i: \n",
    "                         {\n",
    "                             'title': e['title'], \n",
    "                             'url': e['url'],\n",
    "                             'intro': intro, \n",
    "                             'paragraphs': paragraphs, \n",
    "                         }\n",
    "                        }\n",
    "                       )\n",
    "\n",
    "    return episodes\n",
    "\n"
   ]
  },
  {
   "cell_type": "code",
   "execution_count": 716,
   "id": "663924a8-fb89-49de-a92b-52d68da730ad",
   "metadata": {},
   "outputs": [
    {
     "name": "stderr",
     "output_type": "stream",
     "text": [
      " 58%|████████████████████████▊                  | 49/85 [00:50<00:38,  1.07s/it]"
     ]
    },
    {
     "name": "stdout",
     "output_type": "stream",
     "text": [
      "Check sub intro in episode 48.\n"
     ]
    },
    {
     "name": "stderr",
     "output_type": "stream",
     "text": [
      "100%|███████████████████████████████████████████| 85/85 [01:22<00:00,  1.03it/s]\n"
     ]
    }
   ],
   "source": [
    "# Scrapes Mckinsey podcasts\n",
    "base_url = 'https://www.mckinsey.com'\n",
    "home_url = \"https://www.mckinsey.com/featured-insights/mckinsey-podcast\"\n",
    "episodes = get_all_titles(base_url, home_url)\n",
    "episodes = get_page_text(episodes)"
   ]
  },
  {
   "cell_type": "code",
   "execution_count": 719,
   "id": "7f24fe72-bc55-4e89-9a1c-edb1e13a00c9",
   "metadata": {},
   "outputs": [],
   "source": [
    "# Save transcripts to CSV\n",
    "import pandas as pd\n",
    "\n",
    "df = pd.DataFrame(episodes).T\n",
    "# Clean up escape sequences\n",
    "df['paragraphs'] = df.paragraphs.apply(lambda p: [re.sub(r'(\\n|\\xa0)', ' ', x) for x in p])\n",
    "df.to_csv('./mckinsey_podcasts.csv')"
   ]
  },
  {
   "cell_type": "code",
   "execution_count": 743,
   "id": "ded487cb-7abd-43ad-91fb-e85c3df6ce49",
   "metadata": {},
   "outputs": [
    {
     "ename": "SyntaxError",
     "evalue": "(unicode error) 'unicodeescape' codec can't decode bytes in position 0-1: truncated \\uXXXX escape (3837299423.py, line 1)",
     "output_type": "error",
     "traceback": [
      "\u001b[0;36m  File \u001b[0;32m\"/var/folders/zq/55w3ggnn14n4zkb7cv5vvnb80000gn/T/ipykernel_71443/3837299423.py\"\u001b[0;36m, line \u001b[0;32m1\u001b[0m\n\u001b[0;31m    df.intro.apply(lambda x: '\\u' in x).sum()\u001b[0m\n\u001b[0m                            ^\u001b[0m\n\u001b[0;31mSyntaxError\u001b[0m\u001b[0;31m:\u001b[0m (unicode error) 'unicodeescape' codec can't decode bytes in position 0-1: truncated \\uXXXX escape\n"
     ]
    }
   ],
   "source": [
    "df.intro.apply(lambda x: '\\u' in x).sum()"
   ]
  },
  {
   "cell_type": "code",
   "execution_count": null,
   "id": "d7b619f5-dfd0-41a4-ad1c-fdf0d5bf6442",
   "metadata": {},
   "outputs": [],
   "source": []
  },
  {
   "cell_type": "raw",
   "id": "e0e25659-b0d5-4832-acc6-5ae8f77b6a6d",
   "metadata": {},
   "source": [
    "# TODO: scrape Inside the Strategy Room podcast\n",
    "base_url = 'https://www.mckinsey.com/capabilities/strategy-and-corporate-finance/our-insights/'\n",
    "home_url = 'https://www.mckinsey.com/capabilities/strategy-and-corporate-finance/our-insights/inside-the-strategy-room-podcast'\n",
    "\n",
    "e2 = get_all_titles(base_url, home_url)"
   ]
  },
  {
   "cell_type": "markdown",
   "id": "350712cd-aea3-47a1-84aa-ec6f3819d802",
   "metadata": {},
   "source": [
    "### Create embeddings\n"
   ]
  },
  {
   "cell_type": "code",
   "execution_count": 3,
   "id": "065ce2cb-27ff-466c-b5e3-76f7046a45d0",
   "metadata": {},
   "outputs": [
    {
     "data": {
      "text/plain": [
       "True"
      ]
     },
     "execution_count": 3,
     "metadata": {},
     "output_type": "execute_result"
    }
   ],
   "source": [
    "import cohere\n",
    "import numpy as np\n",
    "import re\n",
    "import pandas as pd\n",
    "from sklearn.metrics.pairwise import cosine_similarity\n",
    "# from annoy import AnnoyIndex\n",
    "from dotenv import load_dotenv\n",
    "import os\n",
    "load_dotenv()"
   ]
  },
  {
   "cell_type": "code",
   "execution_count": 720,
   "id": "a2cf4e67-046a-48e1-abea-f59994b85bff",
   "metadata": {},
   "outputs": [],
   "source": [
    "# Paste your API key here. Remember to not share publicly\n",
    "api_key = os.getenv('COHERE_API_KEY')\n",
    "\n",
    "# Create and retrieve a Cohere API key from os.cohere.ai\n",
    "co = cohere.Client(api_key)"
   ]
  },
  {
   "cell_type": "code",
   "execution_count": 721,
   "id": "0be57568-c303-414b-8db9-534c9d8bd5b4",
   "metadata": {},
   "outputs": [],
   "source": [
    "df = pd.read_csv('./mckinsey_podcasts.csv', index_col=0, converters={'paragraphs': lambda x: x[2:-2].split(\"', '\")})\n",
    "df['embeds'] = None  # initialize embeddings"
   ]
  },
  {
   "cell_type": "code",
   "execution_count": 723,
   "id": "abb8cd02-abae-4997-aaeb-7dd08e528f37",
   "metadata": {},
   "outputs": [
    {
     "name": "stderr",
     "output_type": "stream",
     "text": [
      "85it [00:18,  4.49it/s]\n"
     ]
    }
   ],
   "source": [
    "# Get the embeddings for each sentence/paragraph of each episode\n",
    "# TMP\n",
    "# for i, row in df.iloc[:2].iterrows():\n",
    "for i, row in tqdm(df.iterrows()):\n",
    "    # Embed intros\n",
    "    embeds = co.embed(texts=[row.intro],\n",
    "                  model=\"large\",\n",
    "                  truncate=\"LEFT\").embeddings\n",
    "    # Embed paragraphs\n",
    "    # embeds = co.embed(texts=row.paragraphs,\n",
    "    #                   model=\"large\",\n",
    "    #                   truncate=\"LEFT\").embeddings\n",
    "    df.at[i, 'embeds'] = np.array(embeds)\n",
    "    "
   ]
  },
  {
   "cell_type": "code",
   "execution_count": 724,
   "id": "62d31c9c-f4dd-4e68-b486-446bffc7593e",
   "metadata": {},
   "outputs": [],
   "source": [
    "df.to_csv('./mckinsey_podcasts_embeds.csv')"
   ]
  },
  {
   "cell_type": "markdown",
   "id": "4b2293eb-717c-4728-86df-115c36a493a8",
   "metadata": {},
   "source": [
    "### Index embeddings"
   ]
  },
  {
   "cell_type": "code",
   "execution_count": 725,
   "id": "9165b6fd-1bf2-4143-a0a8-ca38e0babee6",
   "metadata": {},
   "outputs": [],
   "source": [
    "embeds = df.embeds.to_list()\n",
    "texts = df.intro.to_numpy()"
   ]
  },
  {
   "cell_type": "code",
   "execution_count": 727,
   "id": "718eaa16-fd2a-4023-b258-cafeb2e6d477",
   "metadata": {},
   "outputs": [
    {
     "data": {
      "text/plain": [
       "True"
      ]
     },
     "execution_count": 727,
     "metadata": {},
     "output_type": "execute_result"
    }
   ],
   "source": [
    "from annoy import AnnoyIndex\n",
    "\n",
    "embed_dim = embeds[0].shape[1]\n",
    "\n",
    "# Index the embeddings\n",
    "search_index = AnnoyIndex(embed_dim, 'angular')\n",
    "for i in range(len(embeds)):\n",
    "    search_index.add_item(i, embeds[i][0])\n",
    "\n",
    "search_index.build(10) # 10 trees\n",
    "search_index.save('./mckinsey_podcasts.ann')"
   ]
  },
  {
   "cell_type": "markdown",
   "id": "46ea9bf5-c857-406a-b99b-6b7016a441e9",
   "metadata": {},
   "source": [
    "### Test indexing"
   ]
  },
  {
   "cell_type": "code",
   "execution_count": 728,
   "id": "0ca68189-6618-4217-802a-f41ab56f5ccd",
   "metadata": {},
   "outputs": [
    {
     "data": {
      "text/plain": [
       "True"
      ]
     },
     "execution_count": 728,
     "metadata": {},
     "output_type": "execute_result"
    }
   ],
   "source": [
    "# Load index\n",
    "search_index = AnnoyIndex(embed_dim, 'angular')\n",
    "search_index.load('./mckinsey_podcasts.ann') # super fast, will just mmap the file"
   ]
  },
  {
   "cell_type": "code",
   "execution_count": 729,
   "id": "575fb304-6284-4442-b1b1-5b1775880aa4",
   "metadata": {},
   "outputs": [],
   "source": [
    "# Choose an example (we'll retrieve others similar to it)\n",
    "example_id = 52\n",
    "\n",
    "# Retrieve nearest neighbors\n",
    "similar_item_ids = search_index.get_nns_by_item(example_id, 10,\n",
    "                                                include_distances=True)"
   ]
  },
  {
   "cell_type": "code",
   "execution_count": 730,
   "id": "0986c159-8327-4d4a-92ca-ea82b09c7e6e",
   "metadata": {},
   "outputs": [
    {
     "name": "stdout",
     "output_type": "stream",
     "text": [
      "Question:'Airlines and passengers alike are flying into a world of flygskam and flying taxis. In this episode of the McKinsey Podcast, Simon London speaks with McKinsey senior partner Alex Dichter and partner Robin Riedel about the economics of the airline industry.'\n",
      "Nearest neighbors:\n"
     ]
    },
    {
     "data": {
      "text/html": [
       "<div>\n",
       "<style scoped>\n",
       "    .dataframe tbody tr th:only-of-type {\n",
       "        vertical-align: middle;\n",
       "    }\n",
       "\n",
       "    .dataframe tbody tr th {\n",
       "        vertical-align: top;\n",
       "    }\n",
       "\n",
       "    .dataframe thead th {\n",
       "        text-align: right;\n",
       "    }\n",
       "</style>\n",
       "<table border=\"1\" class=\"dataframe\">\n",
       "  <thead>\n",
       "    <tr style=\"text-align: right;\">\n",
       "      <th></th>\n",
       "      <th>texts</th>\n",
       "      <th>distance</th>\n",
       "    </tr>\n",
       "  </thead>\n",
       "  <tbody>\n",
       "    <tr>\n",
       "      <th>1</th>\n",
       "      <td>The COVID-19 pandemic decimated airlines in 20...</td>\n",
       "      <td>0.824408</td>\n",
       "    </tr>\n",
       "    <tr>\n",
       "      <th>2</th>\n",
       "      <td>With more than half the world’s population liv...</td>\n",
       "      <td>0.937529</td>\n",
       "    </tr>\n",
       "    <tr>\n",
       "      <th>3</th>\n",
       "      <td>The competitive landscape is shifting across t...</td>\n",
       "      <td>0.955826</td>\n",
       "    </tr>\n",
       "    <tr>\n",
       "      <th>4</th>\n",
       "      <td>The cloud-service cofounder and CEO talks abou...</td>\n",
       "      <td>0.968307</td>\n",
       "    </tr>\n",
       "    <tr>\n",
       "      <th>5</th>\n",
       "      <td>The industry has taken a breather in 2018 as f...</td>\n",
       "      <td>0.968789</td>\n",
       "    </tr>\n",
       "    <tr>\n",
       "      <th>6</th>\n",
       "      <td>Here’s how technology, data, and human insight...</td>\n",
       "      <td>1.003303</td>\n",
       "    </tr>\n",
       "    <tr>\n",
       "      <th>7</th>\n",
       "      <td>With the global economy cooling and concerns a...</td>\n",
       "      <td>1.006455</td>\n",
       "    </tr>\n",
       "    <tr>\n",
       "      <th>8</th>\n",
       "      <td>Next-generation mobile networks promise lower ...</td>\n",
       "      <td>1.018946</td>\n",
       "    </tr>\n",
       "    <tr>\n",
       "      <th>9</th>\n",
       "      <td>McKinsey research shows that adoption of IoT t...</td>\n",
       "      <td>1.022226</td>\n",
       "    </tr>\n",
       "  </tbody>\n",
       "</table>\n",
       "</div>"
      ],
      "text/plain": [
       "                                               texts  distance\n",
       "1  The COVID-19 pandemic decimated airlines in 20...  0.824408\n",
       "2  With more than half the world’s population liv...  0.937529\n",
       "3  The competitive landscape is shifting across t...  0.955826\n",
       "4  The cloud-service cofounder and CEO talks abou...  0.968307\n",
       "5  The industry has taken a breather in 2018 as f...  0.968789\n",
       "6  Here’s how technology, data, and human insight...  1.003303\n",
       "7  With the global economy cooling and concerns a...  1.006455\n",
       "8  Next-generation mobile networks promise lower ...  1.018946\n",
       "9  McKinsey research shows that adoption of IoT t...  1.022226"
      ]
     },
     "execution_count": 730,
     "metadata": {},
     "output_type": "execute_result"
    }
   ],
   "source": [
    "# Format and print the text and distances\n",
    "# Drop idx 0 since it's same as example_id\n",
    "results = pd.DataFrame(data={'texts': texts[similar_item_ids[0]], \n",
    "                             'distance': similar_item_ids[1]}).drop(0)\n",
    "\n",
    "print(f\"Question:'{texts[example_id]}'\\nNearest neighbors:\")\n",
    "results\n",
    "# STOP"
   ]
  },
  {
   "cell_type": "code",
   "execution_count": 731,
   "id": "e38931e5-e8e0-4a48-b9a2-89aa8cc592c7",
   "metadata": {},
   "outputs": [],
   "source": [
    "query = \"tips on how I can accomplish more in my professional life\"\n",
    "query = \"what are some major problems affecting the world recently?\"\n",
    "\n",
    "# Get the query's embedding\n",
    "query_embed = co.embed(texts=[query],\n",
    "                  model=\"large\",\n",
    "                  truncate=\"LEFT\").embeddings\n",
    "\n",
    "# Retrieve the nearest neighbors\n",
    "similar_item_ids = search_index.get_nns_by_vector(query_embed[0],10,\n",
    "                                                include_distances=True)\n",
    "# Format the results\n",
    "results_new = pd.DataFrame(data = {\n",
    "    'id': similar_item_ids[0],\n",
    "    'texts': texts[similar_item_ids[0]], \n",
    "    'distance': similar_item_ids[1],\n",
    "})"
   ]
  },
  {
   "cell_type": "code",
   "execution_count": 732,
   "id": "bfcc17f7-6da1-46c6-a1d4-c8896dd2e119",
   "metadata": {},
   "outputs": [
    {
     "name": "stdout",
     "output_type": "stream",
     "text": [
      "Query:'what are some major problems affecting the world recently?'\n",
      "Nearest neighbors:\n"
     ]
    },
    {
     "data": {
      "text/html": [
       "<div>\n",
       "<style scoped>\n",
       "    .dataframe tbody tr th:only-of-type {\n",
       "        vertical-align: middle;\n",
       "    }\n",
       "\n",
       "    .dataframe tbody tr th {\n",
       "        vertical-align: top;\n",
       "    }\n",
       "\n",
       "    .dataframe thead th {\n",
       "        text-align: right;\n",
       "    }\n",
       "</style>\n",
       "<table border=\"1\" class=\"dataframe\">\n",
       "  <thead>\n",
       "    <tr style=\"text-align: right;\">\n",
       "      <th></th>\n",
       "      <th>id</th>\n",
       "      <th>texts</th>\n",
       "      <th>distance</th>\n",
       "    </tr>\n",
       "  </thead>\n",
       "  <tbody>\n",
       "    <tr>\n",
       "      <th>0</th>\n",
       "      <td>13</td>\n",
       "      <td>Lives lost and upended. Soaring food and energ...</td>\n",
       "      <td>1.054381</td>\n",
       "    </tr>\n",
       "    <tr>\n",
       "      <th>1</th>\n",
       "      <td>12</td>\n",
       "      <td>The war in Ukraine poses a looming threat to t...</td>\n",
       "      <td>1.063986</td>\n",
       "    </tr>\n",
       "    <tr>\n",
       "      <th>2</th>\n",
       "      <td>81</td>\n",
       "      <td>Great strides have been made since 2008 to pre...</td>\n",
       "      <td>1.139327</td>\n",
       "    </tr>\n",
       "    <tr>\n",
       "      <th>3</th>\n",
       "      <td>8</td>\n",
       "      <td>Fashion suppliers and brands, like other compa...</td>\n",
       "      <td>1.150790</td>\n",
       "    </tr>\n",
       "    <tr>\n",
       "      <th>4</th>\n",
       "      <td>58</td>\n",
       "      <td>Across the developed world, health systems mus...</td>\n",
       "      <td>1.170376</td>\n",
       "    </tr>\n",
       "    <tr>\n",
       "      <th>5</th>\n",
       "      <td>33</td>\n",
       "      <td>The pandemic has put demands on the public sec...</td>\n",
       "      <td>1.175080</td>\n",
       "    </tr>\n",
       "    <tr>\n",
       "      <th>6</th>\n",
       "      <td>34</td>\n",
       "      <td>COVID-19 has pushed working women to the point...</td>\n",
       "      <td>1.175303</td>\n",
       "    </tr>\n",
       "    <tr>\n",
       "      <th>7</th>\n",
       "      <td>42</td>\n",
       "      <td>Rarely have supply-chain leaders faced more co...</td>\n",
       "      <td>1.185897</td>\n",
       "    </tr>\n",
       "    <tr>\n",
       "      <th>8</th>\n",
       "      <td>39</td>\n",
       "      <td>The pandemic is exacerbating the US behavioral...</td>\n",
       "      <td>1.189055</td>\n",
       "    </tr>\n",
       "    <tr>\n",
       "      <th>9</th>\n",
       "      <td>66</td>\n",
       "      <td>With more than half the world’s population liv...</td>\n",
       "      <td>1.192957</td>\n",
       "    </tr>\n",
       "  </tbody>\n",
       "</table>\n",
       "</div>"
      ],
      "text/plain": [
       "   id                                              texts  distance\n",
       "0  13  Lives lost and upended. Soaring food and energ...  1.054381\n",
       "1  12  The war in Ukraine poses a looming threat to t...  1.063986\n",
       "2  81  Great strides have been made since 2008 to pre...  1.139327\n",
       "3   8  Fashion suppliers and brands, like other compa...  1.150790\n",
       "4  58  Across the developed world, health systems mus...  1.170376\n",
       "5  33  The pandemic has put demands on the public sec...  1.175080\n",
       "6  34  COVID-19 has pushed working women to the point...  1.175303\n",
       "7  42  Rarely have supply-chain leaders faced more co...  1.185897\n",
       "8  39  The pandemic is exacerbating the US behavioral...  1.189055\n",
       "9  66  With more than half the world’s population liv...  1.192957"
      ]
     },
     "execution_count": 732,
     "metadata": {},
     "output_type": "execute_result"
    }
   ],
   "source": [
    "print(f\"Query:'{query}'\\nNearest neighbors:\")\n",
    "results_new"
   ]
  },
  {
   "cell_type": "code",
   "execution_count": 197,
   "id": "6a093e83-f7f9-4e16-8dd9-cfbdaa2f4463",
   "metadata": {},
   "outputs": [
    {
     "name": "stdout",
     "output_type": "stream",
     "text": [
      "Query:'tips on how I can accomplish more in my professional life'\n",
      "Nearest neighbors:\n"
     ]
    },
    {
     "data": {
      "text/html": [
       "<div>\n",
       "<style scoped>\n",
       "    .dataframe tbody tr th:only-of-type {\n",
       "        vertical-align: middle;\n",
       "    }\n",
       "\n",
       "    .dataframe tbody tr th {\n",
       "        vertical-align: top;\n",
       "    }\n",
       "\n",
       "    .dataframe thead th {\n",
       "        text-align: right;\n",
       "    }\n",
       "</style>\n",
       "<table border=\"1\" class=\"dataframe\">\n",
       "  <thead>\n",
       "    <tr style=\"text-align: right;\">\n",
       "      <th></th>\n",
       "      <th>id</th>\n",
       "      <th>texts</th>\n",
       "      <th>distance</th>\n",
       "    </tr>\n",
       "  </thead>\n",
       "  <tbody>\n",
       "    <tr>\n",
       "      <th>0</th>\n",
       "      <td>40</td>\n",
       "      <td>How can senior managers get better, faster bus...</td>\n",
       "      <td>1.077713</td>\n",
       "    </tr>\n",
       "    <tr>\n",
       "      <th>1</th>\n",
       "      <td>29</td>\n",
       "      <td>How you get along with your manager can shape ...</td>\n",
       "      <td>1.091231</td>\n",
       "    </tr>\n",
       "    <tr>\n",
       "      <th>2</th>\n",
       "      <td>24</td>\n",
       "      <td>McKinsey’s Joanna Barsh discusses how you can ...</td>\n",
       "      <td>1.097185</td>\n",
       "    </tr>\n",
       "    <tr>\n",
       "      <th>3</th>\n",
       "      <td>19</td>\n",
       "      <td>Women are doing more to support employee well-...</td>\n",
       "      <td>1.152625</td>\n",
       "    </tr>\n",
       "    <tr>\n",
       "      <th>4</th>\n",
       "      <td>70</td>\n",
       "      <td>Research shows that companies can improve shor...</td>\n",
       "      <td>1.154624</td>\n",
       "    </tr>\n",
       "    <tr>\n",
       "      <th>5</th>\n",
       "      <td>3</td>\n",
       "      <td>Despite leaders’ best efforts, worldwide burno...</td>\n",
       "      <td>1.170799</td>\n",
       "    </tr>\n",
       "    <tr>\n",
       "      <th>6</th>\n",
       "      <td>67</td>\n",
       "      <td>Bringing advanced computing power and analytic...</td>\n",
       "      <td>1.174368</td>\n",
       "    </tr>\n",
       "    <tr>\n",
       "      <th>7</th>\n",
       "      <td>7</td>\n",
       "      <td>McKinsey’s report on human capital highlights ...</td>\n",
       "      <td>1.176258</td>\n",
       "    </tr>\n",
       "    <tr>\n",
       "      <th>8</th>\n",
       "      <td>23</td>\n",
       "      <td>To keep top talent in the fold, managers must ...</td>\n",
       "      <td>1.179255</td>\n",
       "    </tr>\n",
       "    <tr>\n",
       "      <th>9</th>\n",
       "      <td>61</td>\n",
       "      <td>Cognitive biases can trip up even the most exp...</td>\n",
       "      <td>1.180501</td>\n",
       "    </tr>\n",
       "  </tbody>\n",
       "</table>\n",
       "</div>"
      ],
      "text/plain": [
       "   id                                              texts  distance\n",
       "0  40  How can senior managers get better, faster bus...  1.077713\n",
       "1  29  How you get along with your manager can shape ...  1.091231\n",
       "2  24  McKinsey’s Joanna Barsh discusses how you can ...  1.097185\n",
       "3  19  Women are doing more to support employee well-...  1.152625\n",
       "4  70  Research shows that companies can improve shor...  1.154624\n",
       "5   3  Despite leaders’ best efforts, worldwide burno...  1.170799\n",
       "6  67  Bringing advanced computing power and analytic...  1.174368\n",
       "7   7  McKinsey’s report on human capital highlights ...  1.176258\n",
       "8  23  To keep top talent in the fold, managers must ...  1.179255\n",
       "9  61  Cognitive biases can trip up even the most exp...  1.180501"
      ]
     },
     "execution_count": 197,
     "metadata": {},
     "output_type": "execute_result"
    }
   ],
   "source": [
    "print(f\"Query:'{query}'\\nNearest neighbors:\")\n",
    "results_new"
   ]
  },
  {
   "cell_type": "code",
   "execution_count": 190,
   "id": "06da307a-4a14-465e-b1a7-2c23dfbc1770",
   "metadata": {},
   "outputs": [
    {
     "data": {
      "text/plain": [
       "array(['How can senior managers get better, faster business decisions from the meetings they attend or lead? Planning is key.',\n",
       "       'How you get along with your manager can shape your health, happiness, and productivity.',\n",
       "       'McKinsey’s Joanna Barsh discusses how you can become an effective and engaged leader.',\n",
       "       'Women are doing more to support employee well-being but face higher stress levels as a result. Here’s how leaders can help.',\n",
       "       'Research shows that companies can improve short- and long-term performance by focusing on a small number of carefully selected management practices.',\n",
       "       'Despite leaders’ best efforts, worldwide burnout persists. New research reveals why—and how to help employees begin to thrive again.',\n",
       "       'Bringing advanced computing power and analytics capabilities to bear on people decisions in an organization is crucial to driving lasting and effective change.',\n",
       "       'McKinsey’s report on human capital highlights the importance of internal mobility in organizations. Here’s how to encourage your employees to try more new things.',\n",
       "       'To keep top talent in the fold, managers must actively change their leadership styles—focusing less on controls and more on culture and connections.',\n",
       "       'Cognitive biases can trip up even the most experienced executives but can be defeated using proven techniques.'],\n",
       "      dtype=object)"
      ]
     },
     "execution_count": 190,
     "metadata": {},
     "output_type": "execute_result"
    }
   ],
   "source": [
    "# tmp\n",
    "results_new.texts.values\n"
   ]
  },
  {
   "cell_type": "markdown",
   "id": "f79f9b45-9a94-4e9d-bd5e-4fb9f0c36569",
   "metadata": {
    "tags": []
   },
   "source": [
    "## TFTS\n",
    "\n",
    "### Scrape episodes"
   ]
  },
  {
   "cell_type": "code",
   "execution_count": 392,
   "id": "17f4c74f-3275-4835-a240-eecf343a5154",
   "metadata": {},
   "outputs": [],
   "source": [
    "# Find all episode URLs\n",
    "base = 'https://www.gsb.stanford.edu'\n",
    "URL = \"https://www.gsb.stanford.edu/business-podcasts/think-fast-talk-smart-podcast\"\n",
    "\n",
    "page = requests.get(URL)\n",
    "soup = BeautifulSoup(page.content, \"html.parser\")\n",
    "\n",
    "n = soup.find_all('div', class_='field__item field--item-view_item')\n",
    "\n",
    "episodes = {}\n",
    "i = 0\n",
    "for _n in n:\n",
    "    n2 = _n.find_all('div', class_='views-field views-field-title')\n",
    "    for _n2 in n2:\n",
    "        _url = _n2.find('a')\n",
    "        # print(f\"{_n2.text} | {base}{_url['href']}\")\n",
    "        \n",
    "        # Put it all together\n",
    "        episodes.update({i: {'title': _n2.text, 'url': f\"{base}{_url['href']}\"}})\n",
    "        i += 1"
   ]
  },
  {
   "cell_type": "code",
   "execution_count": 415,
   "id": "de9fe325-2341-4972-b95e-24354cbc6e44",
   "metadata": {},
   "outputs": [
    {
     "name": "stderr",
     "output_type": "stream",
     "text": [
      "100%|███████████████████████████████████████████| 66/66 [00:29<00:00,  2.24it/s]\n"
     ]
    }
   ],
   "source": [
    "# Find and combine all intro sentences within an episode\n",
    "for i, episode in tqdm(episodes.items()):\n",
    "    _page = requests.get(episode['url'])\n",
    "    _soup = BeautifulSoup(_page.content, \"html.parser\")\n",
    "    r = _soup.find_all('p', {'class':['intro', 'intro-copy']})\n",
    "    # print(episode['url'])\n",
    "    if len(r) > 1:\n",
    "        intro = r[0].text.strip() + ' ' + r[1].text.strip()\n",
    "        for sib in r[1].next_siblings:\n",
    "            if sib.name == 'p' and 'a podcast produced by Stanford Graduate School' not in sib.text:\n",
    "                intro += ' ' + sib.text.strip()\n",
    "    elif len(r) == 1:\n",
    "        r = _soup.find_all('p')\n",
    "        r_skipped_date = r[0].findNext('p').findNext('p')\n",
    "        intro = r[0].text.strip() + ' ' + r_skipped_date.text.strip()\n",
    "        for sib in r_skipped_date.next_siblings:\n",
    "            if sib.name == 'p' and 'a podcast produced by Stanford Graduate School' not in sib.text:\n",
    "                intro += ' ' + sib.text.strip()\n",
    "\n",
    "    episodes.update({i: {'title': episode['title'],\n",
    "                                   'url': episode['url'],\n",
    "                                   'intro': intro,\n",
    "                                   'paragraphs': ''\n",
    "                                  }})\n",
    "    "
   ]
  },
  {
   "cell_type": "code",
   "execution_count": 419,
   "id": "5b42f2c8-2268-4ed0-889f-6c648c69dac9",
   "metadata": {},
   "outputs": [],
   "source": [
    "df2 = pd.DataFrame(episodes).T\n",
    "df2.head()\n",
    "df2.to_csv('./tfts_podcasts.csv')"
   ]
  },
  {
   "cell_type": "markdown",
   "id": "facb594f-0f26-4b71-8c37-d89010056064",
   "metadata": {},
   "source": [
    "### Embed and index"
   ]
  },
  {
   "cell_type": "code",
   "execution_count": 421,
   "id": "3fc29136-8043-4fd3-88eb-fe95ac77319f",
   "metadata": {},
   "outputs": [
    {
     "name": "stderr",
     "output_type": "stream",
     "text": [
      "66it [00:13,  4.89it/s]\n"
     ]
    }
   ],
   "source": [
    "# Get the embeddings for intro of each episode\n",
    "df2['embeds'] = ''\n",
    "for i, row in tqdm(df2.iterrows()):\n",
    "    # Embed intros\n",
    "    embeds = co.embed(texts=[row.intro],\n",
    "                  model=\"large\",\n",
    "                  truncate=\"LEFT\").embeddings\n",
    "    # Embed paragraphs\n",
    "    # embeds = co.embed(texts=row.paragraphs,\n",
    "    #                   model=\"large\",\n",
    "    #                   truncate=\"LEFT\").embeddings\n",
    "    df2.at[i, 'embeds'] = np.array(embeds)\n",
    "    "
   ]
  },
  {
   "cell_type": "code",
   "execution_count": 424,
   "id": "8a2acbd1-f574-4982-a8a1-cb3a2becf0fc",
   "metadata": {},
   "outputs": [],
   "source": [
    "df2.to_csv('./tfts_podcasts_embeds.csv')"
   ]
  },
  {
   "cell_type": "code",
   "execution_count": 422,
   "id": "f01a19f5-21c4-4d09-8e43-0f9a52cbab36",
   "metadata": {},
   "outputs": [],
   "source": [
    "# Check the dimensions of the embeddings\n",
    "embeds = df2.embeds.to_list()\n",
    "texts = df2.intro.to_numpy()\n",
    "# df.embeds.shape\n",
    "# embeds = df.loc[0, 'embeds']\n",
    "# texts = np.array(df.loc[0, 'paragraphs'])"
   ]
  },
  {
   "cell_type": "code",
   "execution_count": 423,
   "id": "177e085c-429b-4e80-aea4-73799466bd08",
   "metadata": {},
   "outputs": [
    {
     "data": {
      "text/plain": [
       "True"
      ]
     },
     "execution_count": 423,
     "metadata": {},
     "output_type": "execute_result"
    }
   ],
   "source": [
    "from annoy import AnnoyIndex\n",
    "\n",
    "embed_dim = embeds[0].shape[1]\n",
    "\n",
    "# Index the embeddings\n",
    "search_index = AnnoyIndex(embed_dim, 'angular')\n",
    "for i in range(len(embeds)):\n",
    "    search_index.add_item(i, embeds[i][0])\n",
    "\n",
    "search_index.build(10) # 10 trees\n",
    "search_index.save('./tfts_podcasts.ann')"
   ]
  },
  {
   "cell_type": "markdown",
   "id": "57fc6820-b5da-4bcd-9100-6f000d971adb",
   "metadata": {
    "tags": []
   },
   "source": [
    "# Appendix\n",
    "\n",
    "---\n",
    "\n",
    "## Eth doc scraper\n",
    "\n",
    "Use BeautifulSoup to scrape documentation sites for text content.\n"
   ]
  },
  {
   "cell_type": "code",
   "execution_count": 7,
   "id": "d824f672-c874-4c98-a644-c88591f29650",
   "metadata": {},
   "outputs": [],
   "source": [
    "from bs4 import BeautifulSoup\n",
    "import requests"
   ]
  },
  {
   "cell_type": "code",
   "execution_count": null,
   "id": "1dcc2442-0ddb-4a90-90e9-fc96cd14b6c3",
   "metadata": {},
   "outputs": [],
   "source": [
    "URL = \"https://ethereum.org/en/developers/docs/\"\n",
    "# URL = \"https://ethereum.org/en/developers/docs/intro-to-ethereum/#what-is-ethereum\"\n",
    "page = requests.get(URL)\n",
    "soup = BeautifulSoup(page.content, \"html.parser\")"
   ]
  },
  {
   "cell_type": "code",
   "execution_count": null,
   "id": "0109090f-06bf-4588-b94f-d104ba245b68",
   "metadata": {},
   "outputs": [],
   "source": [
    "# Find child URLs\n",
    "base = 'https://ethereum.org'\n",
    "n = soup.find_all('a')\n",
    "for _n in n:\n",
    "    if 'docs' in _n['href']:\n",
    "        print(f\"{base}{_n['href']}\")"
   ]
  },
  {
   "cell_type": "code",
   "execution_count": 125,
   "id": "848d2cd7-358c-4406-b1f8-8aa643e04d43",
   "metadata": {},
   "outputs": [
    {
     "name": "stdout",
     "output_type": "stream",
     "text": [
      "h1: Ethereum development documentation\n",
      "\n",
      "This documentation is designed to help you build with Ethereum. It covers Ethereum as a concept, explains the Ethereum tech stack, and documents advanced topics for more complex applications and use cases.\n",
      "\n",
      "This is an open-source community effort, so feel free to suggest new topics, add new content, and provide examples wherever you think it might be helpful. All documentation can be edited via GitHub – if you're unsure how, follow these instructions.\n",
      "\n",
      "h2: Development modules\n",
      "\n",
      "If this is your first attempt at Ethereum development, we recommend starting at the beginning and working your way through like a book.\n",
      "\n",
      "h3: Foundational topics\n",
      "\n",
      "h3: Ethereum stack\n",
      "\n",
      "h3: Advanced\n",
      "\n",
      "h3: Was this article helpful?\n",
      "\n",
      "Next\n",
      "\n"
     ]
    }
   ],
   "source": [
    "# Get all article text (title, headers, paragraphs)\n",
    "a = soup.find_all(\"article\")\n",
    "for _a in a:\n",
    "    s = _a.find_all([\"h1\", \"h2\", \"h3\", 'p'])\n",
    "    for _s in s:\n",
    "        if _s.name in [\"h1\", \"h2\", \"h3\"]:\n",
    "            print(f\"{_s.name}: {_s.text}\\n\")\n",
    "        else: \n",
    "            print(_s.text + '\\n')"
   ]
  },
  {
   "cell_type": "markdown",
   "id": "86228559-1559-4149-8a57-9199b8f32f76",
   "metadata": {},
   "source": [
    "### manually explore soup"
   ]
  },
  {
   "cell_type": "code",
   "execution_count": 425,
   "id": "03cbc804-f57c-4ae6-90a0-e5a9289c5856",
   "metadata": {},
   "outputs": [],
   "source": [
    "URL2 = '22'\n",
    "URL2 = 'https://www.gsb.stanford.edu/insights/monologue-dialogue-how-handle-skeptical-audience'\n",
    "URL2 = 'https://www.gsb.stanford.edu/insights/quick-thinks-how-being-present-improves-communication'\n",
    "URL2 = 'https://www.gsb.stanford.edu/insights/feeling-nervous-how-anxiety-can-fuel-better-communication'\n",
    "URL2 = 'https://www.mckinsey.com/mhi/our-insights/beyond-burnout-what-helps-and-what-doesnt'\n",
    "page2 = requests.get(URL2)\n",
    "soup2 = BeautifulSoup(page2.content, \"html.parser\")\n"
   ]
  },
  {
   "cell_type": "code",
   "execution_count": 401,
   "id": "8e6bb96e-f063-426b-a0c5-aec076e91eb9",
   "metadata": {},
   "outputs": [
    {
     "ename": "IndexError",
     "evalue": "list index out of range",
     "output_type": "error",
     "traceback": [
      "\u001b[0;31m---------------------------------------------------------------------------\u001b[0m",
      "\u001b[0;31mIndexError\u001b[0m                                Traceback (most recent call last)",
      "\u001b[0;32m/var/folders/zq/55w3ggnn14n4zkb7cv5vvnb80000gn/T/ipykernel_71443/3572453622.py\u001b[0m in \u001b[0;36m<module>\u001b[0;34m\u001b[0m\n\u001b[1;32m      1\u001b[0m \u001b[0mr\u001b[0m \u001b[0;34m=\u001b[0m \u001b[0msoup2\u001b[0m\u001b[0;34m.\u001b[0m\u001b[0mfind_all\u001b[0m\u001b[0;34m(\u001b[0m\u001b[0;34m'p'\u001b[0m\u001b[0;34m,\u001b[0m \u001b[0;34m{\u001b[0m\u001b[0;34m'class'\u001b[0m\u001b[0;34m:\u001b[0m\u001b[0;34m[\u001b[0m\u001b[0;34m'intro'\u001b[0m\u001b[0;34m,\u001b[0m \u001b[0;34m'intro-copy'\u001b[0m\u001b[0;34m]\u001b[0m\u001b[0;34m}\u001b[0m\u001b[0;34m)\u001b[0m\u001b[0;34m\u001b[0m\u001b[0;34m\u001b[0m\u001b[0m\n\u001b[0;32m----> 2\u001b[0;31m \u001b[0mintro\u001b[0m \u001b[0;34m=\u001b[0m \u001b[0mr\u001b[0m\u001b[0;34m[\u001b[0m\u001b[0;36m0\u001b[0m\u001b[0;34m]\u001b[0m\u001b[0;34m.\u001b[0m\u001b[0mtext\u001b[0m \u001b[0;34m+\u001b[0m \u001b[0;34m' '\u001b[0m \u001b[0;34m+\u001b[0m \u001b[0mr\u001b[0m\u001b[0;34m[\u001b[0m\u001b[0;36m1\u001b[0m\u001b[0;34m]\u001b[0m\u001b[0;34m.\u001b[0m\u001b[0mtext\u001b[0m\u001b[0;34m\u001b[0m\u001b[0;34m\u001b[0m\u001b[0m\n\u001b[0m\u001b[1;32m      3\u001b[0m \u001b[0;32mfor\u001b[0m \u001b[0msib\u001b[0m \u001b[0;32min\u001b[0m \u001b[0mr\u001b[0m\u001b[0;34m[\u001b[0m\u001b[0;36m1\u001b[0m\u001b[0;34m]\u001b[0m\u001b[0;34m.\u001b[0m\u001b[0mnext_siblings\u001b[0m\u001b[0;34m:\u001b[0m\u001b[0;34m\u001b[0m\u001b[0;34m\u001b[0m\u001b[0m\n\u001b[1;32m      4\u001b[0m     \u001b[0;32mif\u001b[0m \u001b[0msib\u001b[0m\u001b[0;34m.\u001b[0m\u001b[0mname\u001b[0m \u001b[0;34m==\u001b[0m \u001b[0;34m'p'\u001b[0m \u001b[0;32mand\u001b[0m \u001b[0;34m'a podcast produced by Stanford Graduate School'\u001b[0m \u001b[0;32mnot\u001b[0m \u001b[0;32min\u001b[0m \u001b[0msib\u001b[0m\u001b[0;34m.\u001b[0m\u001b[0mtext\u001b[0m\u001b[0;34m:\u001b[0m\u001b[0;34m\u001b[0m\u001b[0;34m\u001b[0m\u001b[0m\n\u001b[1;32m      5\u001b[0m         \u001b[0mintro\u001b[0m \u001b[0;34m+=\u001b[0m \u001b[0;34m' '\u001b[0m \u001b[0;34m+\u001b[0m \u001b[0msib\u001b[0m\u001b[0;34m.\u001b[0m\u001b[0mtext\u001b[0m\u001b[0;34m\u001b[0m\u001b[0;34m\u001b[0m\u001b[0m\n",
      "\u001b[0;31mIndexError\u001b[0m: list index out of range"
     ]
    }
   ],
   "source": [
    "r = soup2.find_all('p', {'class':['intro', 'intro-copy']})\n",
    "intro = r[0].text + ' ' + r[1].text\n",
    "for sib in r[1].next_siblings:\n",
    "    if sib.name == 'p' and 'a podcast produced by Stanford Graduate School' not in sib.text:\n",
    "        intro += ' ' + sib.text\n",
    "    \n",
    "    \n",
    "# r = soup2.find('a', string='Think Fast, Talk Smart')#string='a podcast designed to hone your communication skills')\n",
    "# r.previous_sibling\n",
    "# r\n",
    "# r[1].findNext('p').findNext('p').findNext('p')#.find_next_sibling().find_next_sibling()#.text.strip()#.find_next_sibling()\n",
    "# r.parent.parent.parent.parent.parent.parent.parent.parent.parent.parent.parent.parent.parent.parent.parent.parent.parent.parent.parent.parent.parent.parent.parent.parent#find_next_sibling()"
   ]
  },
  {
   "cell_type": "code",
   "execution_count": 409,
   "id": "34ea3913-1544-4ce2-8d32-ccbf9109089d",
   "metadata": {},
   "outputs": [
    {
     "data": {
      "text/plain": [
       "<p>Stress, anxiety, nervousness — when these feelings inevitably arise, lecturer Kelly McGonigal says it’s not about making them go away, but using them to your advantage.</p>"
      ]
     },
     "execution_count": 409,
     "metadata": {},
     "output_type": "execute_result"
    }
   ],
   "source": [
    "# print(intro)\n",
    "r = soup2.find_all('p', {'class':['intro', 'intro-copy']})\n",
    "r[0].findNext('p').findNext('p')"
   ]
  },
  {
   "cell_type": "code",
   "execution_count": 367,
   "id": "139364e8-8bda-4590-afd3-c3b3bef149e2",
   "metadata": {},
   "outputs": [
    {
     "data": {
      "text/plain": [
       "True"
      ]
     },
     "execution_count": 367,
     "metadata": {},
     "output_type": "execute_result"
    }
   ],
   "source": [
    "'a podcast produced by Stanford Graduate School' in r[1].findNext('p').findNext('p').findNext('p').text"
   ]
  },
  {
   "cell_type": "code",
   "execution_count": 261,
   "id": "6c577ef2-639d-4605-958b-924dd10df0b5",
   "metadata": {},
   "outputs": [
    {
     "name": "stdout",
     "output_type": "stream",
     "text": [
      "Use these techniques when handling challenges and objections.\n",
      "March 12, 2020\n",
      "Preparing to speak in front of a skeptical audience is more than thinking about objections beforehand — there are specific techniques you can use to respond to these situations without sounding defensive, evasive, or dismissive.\n"
     ]
    }
   ],
   "source": [
    "r = soup2.find('p', class_=['intro-copy', 'intro'])\n",
    "# .findNext('p').findNext('p')#, string=lambda x: 'podcast produced by stanford graduate school of business and hosted by matt abrahams' in x.lower())\n",
    "# intro selectionShareable\n",
    "print(r.text)\n",
    "print(r.findNext('p').text)\n",
    "print(r.findNext('p').findNext('p').text)\n"
   ]
  },
  {
   "cell_type": "markdown",
   "id": "903b4168-b8e5-4032-b62e-d55a04c9c751",
   "metadata": {
    "tags": []
   },
   "source": [
    "# Example website scraper "
   ]
  },
  {
   "cell_type": "code",
   "execution_count": 7,
   "id": "b827306d-9b38-4522-9c11-e2088efa559a",
   "metadata": {},
   "outputs": [],
   "source": [
    "from bs4 import BeautifulSoup\n",
    "import requests"
   ]
  },
  {
   "cell_type": "code",
   "execution_count": 8,
   "id": "97f36f2d-bed0-4a0f-be48-5b44782f507c",
   "metadata": {},
   "outputs": [],
   "source": [
    "URL = \"https://realpython.github.io/fake-jobs/\"\n",
    "page = requests.get(URL)\n",
    "\n",
    "# print(page.text)\n",
    "\n",
    "soup = BeautifulSoup(page.content, \"html.parser\")\n"
   ]
  },
  {
   "cell_type": "code",
   "execution_count": null,
   "id": "8dc410f4-2db8-4592-931a-60faba6f7c42",
   "metadata": {},
   "outputs": [],
   "source": [
    "results = soup.find(id=\"ResultsContainer\")\n",
    "job_elements = results.find_all(\"div\", class_=\"card-content\")\n",
    "\n",
    "# print(results.prettify())\n",
    "\n",
    "for job_element in job_elements:\n",
    "    title_element = job_element.find(\"h2\", class_=\"title\")\n",
    "    company_element = job_element.find(\"h3\", class_=\"company\")\n",
    "    location_element = job_element.find(\"p\", class_=\"location\")\n",
    "    print(title_element.text.strip())\n",
    "    print(company_element.text.strip())\n",
    "    print(location_element.text.strip())\n",
    "    print()\n",
    "    \n"
   ]
  },
  {
   "cell_type": "code",
   "execution_count": null,
   "id": "67c9b682-f8d5-4c32-b8dc-816dd1347e5d",
   "metadata": {},
   "outputs": [],
   "source": [
    "python_jobs = results.find_all(\n",
    "    \"h2\", string=lambda text: \"python\" in text.lower()\n",
    ")\n",
    "\n",
    "python_job_elements = [\n",
    "    h2_element.parent.parent.parent for h2_element in python_jobs\n",
    "]"
   ]
  },
  {
   "cell_type": "code",
   "execution_count": null,
   "id": "b285b1db-086d-4477-b16c-fbaa92e25b7e",
   "metadata": {},
   "outputs": [],
   "source": [
    "for job_element in python_job_elements:\n",
    "    # -- snip --\n",
    "    links = job_element.find_all(\"a\")\n",
    "    for link in links:\n",
    "        link_url = link[\"href\"]\n",
    "        print(f\"Apply here: {link_url}\\n\")"
   ]
  }
 ],
 "metadata": {
  "kernelspec": {
   "display_name": "Python [conda env:hackathon] *",
   "language": "python",
   "name": "conda-env-hackathon-py"
  },
  "language_info": {
   "codemirror_mode": {
    "name": "ipython",
    "version": 3
   },
   "file_extension": ".py",
   "mimetype": "text/x-python",
   "name": "python",
   "nbconvert_exporter": "python",
   "pygments_lexer": "ipython3",
   "version": "3.7.13"
  }
 },
 "nbformat": 4,
 "nbformat_minor": 5
}
